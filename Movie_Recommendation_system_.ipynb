{
  "nbformat": 4,
  "nbformat_minor": 0,
  "metadata": {
    "colab": {
      "provenance": []
    },
    "kernelspec": {
      "name": "python3",
      "display_name": "Python 3"
    },
    "language_info": {
      "name": "python"
    }
  },
  "cells": [
    {
      "cell_type": "code",
      "execution_count": 19,
      "metadata": {
        "id": "eFJ1_oT_7g8I"
      },
      "outputs": [],
      "source": [
        "##importing all the required data sets\n",
        "import numpy as np\n",
        "import pandas as pd\n",
        "from sklearn.metrics.pairwise import cosine_similarity"
      ]
    },
    {
      "cell_type": "code",
      "source": [
        "movies=pd.read_csv(\"dataset.csv\")## assigning the dataset to the variable\n",
        "movies"
      ],
      "metadata": {
        "collapsed": true,
        "id": "8iEPCuQN72KY"
      },
      "execution_count": null,
      "outputs": []
    },
    {
      "cell_type": "code",
      "source": [
        "movies.columns\n"
      ],
      "metadata": {
        "collapsed": true,
        "id": "0vmw9b1X78lF"
      },
      "execution_count": null,
      "outputs": []
    },
    {
      "cell_type": "code",
      "source": [
        "movies.info()## checking the datatype of each applied data"
      ],
      "metadata": {
        "collapsed": true,
        "id": "kKWlyzpv8NXa"
      },
      "execution_count": null,
      "outputs": []
    },
    {
      "cell_type": "code",
      "source": [
        "movies[\"tags\"]=movies[\"genre\"]+ movies[\"overview\"]##processing the movie tags as a new column as a combination of movie genre and movie overview"
      ],
      "metadata": {
        "id": "LxV3C8Ev8ZDs"
      },
      "execution_count": 23,
      "outputs": []
    },
    {
      "cell_type": "code",
      "source": [
        "movies.head()"
      ],
      "metadata": {
        "collapsed": true,
        "id": "26-PBjju8wII"
      },
      "execution_count": null,
      "outputs": []
    },
    {
      "cell_type": "code",
      "source": [
        "new_df=movies[['id',\"title\",\"genre\",'overview',\"tags\"]]\n",
        "new_df"
      ],
      "metadata": {
        "collapsed": true,
        "id": "1UlNQ9zQ88I8"
      },
      "execution_count": null,
      "outputs": []
    },
    {
      "cell_type": "code",
      "source": [
        "new_df=new_df.drop(columns=[\"genre\",\"overview\"])## keeping only the two required columns in the dataset\n",
        "new_df.head()"
      ],
      "metadata": {
        "id": "xz4cOSC-9cCu"
      },
      "execution_count": null,
      "outputs": []
    },
    {
      "cell_type": "code",
      "source": [
        "from sklearn.feature_extraction.text import CountVectorizer"
      ],
      "metadata": {
        "id": "sqko4TjP9te2"
      },
      "execution_count": 27,
      "outputs": []
    },
    {
      "cell_type": "code",
      "source": [
        "cv=CountVectorizer(max_features=10000,stop_words=\"english\")"
      ],
      "metadata": {
        "id": "UlkbLpjN-AAg"
      },
      "execution_count": 28,
      "outputs": []
    },
    {
      "cell_type": "code",
      "source": [
        "cv"
      ],
      "metadata": {
        "id": "s6n9T-rt-c_T"
      },
      "execution_count": null,
      "outputs": []
    },
    {
      "cell_type": "code",
      "source": [
        "vec=cv.fit_transform(new_df[\"tags\"].values.astype(\"U\")).toarray()"
      ],
      "metadata": {
        "id": "SQYVlDjm-e8b"
      },
      "execution_count": 30,
      "outputs": []
    },
    {
      "cell_type": "code",
      "source": [
        "vec"
      ],
      "metadata": {
        "id": "OqKKG_s1-rXr"
      },
      "execution_count": null,
      "outputs": []
    },
    {
      "cell_type": "code",
      "source": [
        "vec.shape"
      ],
      "metadata": {
        "colab": {
          "base_uri": "https://localhost:8080/",
          "height": 0
        },
        "id": "V57GzUV--sFL",
        "outputId": "b9b61c25-7d5a-4974-f932-d12aa006d70c"
      },
      "execution_count": 32,
      "outputs": [
        {
          "output_type": "execute_result",
          "data": {
            "text/plain": [
              "(10000, 10000)"
            ]
          },
          "metadata": {},
          "execution_count": 32
        }
      ]
    },
    {
      "cell_type": "code",
      "source": [
        "from sklearn.metrics.pairwise import cosine_similarity\n",
        "sim=cosine_similarity(vec)"
      ],
      "metadata": {
        "id": "HPncU_PU_6BM"
      },
      "execution_count": 33,
      "outputs": []
    },
    {
      "cell_type": "code",
      "source": [
        "new_df[new_df['title']==\"The Shawshank Redemption\"]"
      ],
      "metadata": {
        "id": "ag9eZMdjAcwk"
      },
      "execution_count": null,
      "outputs": []
    },
    {
      "cell_type": "code",
      "source": [
        "dist=sorted(list(enumerate(sim[0])),reverse=True,key=lambda vec:vec[1])\n",
        "dist"
      ],
      "metadata": {
        "id": "jWFZVzIpBNWe"
      },
      "execution_count": null,
      "outputs": []
    },
    {
      "cell_type": "code",
      "source": [
        "for i in dist[0:5]:\n",
        "  print(new_df.iloc[i[0]].title)"
      ],
      "metadata": {
        "id": "JbZpohjmBfCL"
      },
      "execution_count": null,
      "outputs": []
    },
    {
      "cell_type": "code",
      "source": [
        "def recommend(movies):\n",
        "  index=new_df[new_df[\"title\"]==movies].index[0]\n",
        "  distance=sorted(list(enumerate(sim[index])),reverse=True,key=lambda vec:vec[1])\n",
        "  for i in distance[0:5]:\n",
        "    print(new_df.iloc[i[0]].title)"
      ],
      "metadata": {
        "id": "PGQQ4RSmBrDD"
      },
      "execution_count": 38,
      "outputs": []
    },
    {
      "cell_type": "code",
      "source": [
        "recommend(\"Iron Man\")"
      ],
      "metadata": {
        "id": "Akl_CA_tCWCk"
      },
      "execution_count": null,
      "outputs": []
    },
    {
      "cell_type": "code",
      "source": [],
      "metadata": {
        "id": "Ip71mEOuCcS7"
      },
      "execution_count": null,
      "outputs": []
    }
  ]
}